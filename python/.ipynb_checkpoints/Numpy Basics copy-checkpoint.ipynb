{
 "cells": [
  {
   "cell_type": "code",
   "execution_count": 41,
   "id": "d456fe28-8a60-4f5e-bc37-e15ff4f2fc55",
   "metadata": {},
   "outputs": [
    {
     "data": {
      "text/html": [
       "<style>\n",
       "img {\n",
       "  border-radius: 02%;\n",
       "}\n",
       "</style>\n"
      ],
      "text/plain": [
       "<IPython.core.display.HTML object>"
      ]
     },
     "metadata": {},
     "output_type": "display_data"
    }
   ],
   "source": [
    "%%html\n",
    "<style>\n",
    "img {\n",
    "  border-radius: 02%;\n",
    "}\n",
    "</style>"
   ]
  },
  {
   "cell_type": "markdown",
   "id": "a95b5568-d054-4e51-854b-642e68872b32",
   "metadata": {
    "tags": []
   },
   "source": [
    "# Numpy Basics\n",
    "\n",
    "## Difference between Lists and Tuples\n",
    "\n",
    "### Lists\n",
    "- Mutable\n",
    "- Slower\n",
    "- Variable length\n",
    "- More functionality than a tuple\n",
    "\n",
    "### Tuples\n",
    "- Immutable\n",
    "- Faster\n",
    "- Fixed length\n",
    "- Typically used in place of keyless dictionaries\n",
    "- Easier to read when tuples are stored inside of a list vs. list inside list\n",
    "\n",
    "### Numpy arrays\n",
    "- Homogenous data\n",
    "- Faster and more compact than python lists as they utilize c code\n",
    "- Use less memory\n",
    "\n",
    "## Rank, Shape, and Size (https://www.ibm.com/docs/en/xffbg/121.141?topic=basics-rank-shape-size-array)\n",
    "### Rank\n",
    "- The rank of an array is the number of dimensions it has.\n",
    "- A scalar is considered to have rank zero.\n",
    "<br>\n",
    "INTEGER, DIMENSION (10) :: A      ! Rank = 1\n",
    "<br>\n",
    "REAL, DIMENSION (-5:5,100) :: B  ! Rank = 2\n",
    "\n",
    "### Shape\n",
    "- The shape of an array is derived from its rank and extents.\n",
    "<br>\n",
    "INTEGER, DIMENSION (10,10) :: A            ! Shape = (/ 10, 10 /)\n",
    "<br>\n",
    "REAL, DIMENSION (-5:4,1:10,10:19) :: B   ! Shape = (/ 10, 10, 10 /)\n",
    "\n",
    "### Size\n",
    "- The size of an array is the total number of elements in it. The size equals to the product of the extents of all dimensions.\n",
    "<br>\n",
    "INTEGER A(5)               ! Size = 5\n",
    "<br>\n",
    "REAL B(-1:0,1:3,4)        ! Size = 2 * 3 * 4 = 24\n",
    "\n",
    "### Attributes of an array\n",
    "- A <span style=\"color:coral\">ndarray</span> is just an array with any number of dimensions.\n",
    "- A vector is a one dimensional array (there is no difference between row and column vectors).\n",
    "- A matrix is an array with two dimensions\n",
    "- A tensor is an array with 3 or more dimensions.\n",
    "* A scalar is a single value like an integer or float."
   ]
  },
  {
   "cell_type": "code",
   "execution_count": 43,
   "id": "f575bc32-09c2-468e-9789-14be2165b873",
   "metadata": {},
   "outputs": [
    {
     "data": {
      "image/png": "[encoded data removed]",
      "text/plain": [
       "<Figure size 432x288 with 1 Axes>"
      ]
     },
     "metadata": {
      "needs_background": "dark"
     },
     "output_type": "display_data"
    }
   ],
   "source": [
    "import numpy as np\n",
    "import matplotlib as mt\n",
    "from matplotlib import pyplot as plt\n",
    "\n",
    "# Compute the x and y coordinates for points on a sine curve\n",
    "x = np.arange(0, 3 * np.pi, 0.1)\n",
    "y = np.sin(x)\n",
    "COLOR = \"white\"\n",
    "mt.rcParams[\"text.color\"] = COLOR\n",
    "mt.rcParams[\"axes.labelcolor\"] = COLOR\n",
    "mt.rcParams[\"ytick.color\"] = COLOR\n",
    "mt.rcParams[\"xtick.color\"] = COLOR\n",
    "plt.title(\"sine wave form\")\n",
    "\n",
    "# Plot the points using matplotlib\n",
    "plt.plot(x, y)\n",
    "plt.show()"
   ]
  },
  {
   "cell_type": "markdown",
   "id": "9bbff41e",
   "metadata": {},
   "source": [
    "<img src=\"other/Shirogane%20Noel%20%255BHololive%255D.jpeg\" alt=\"shirogane\">"
   ]
  },
  {
   "cell_type": "code",
   "execution_count": 3,
   "id": "9d08a672-cf87-405a-be38-92b660af7c4b",
   "metadata": {},
   "outputs": [
    {
     "name": "stdout",
     "output_type": "stream",
     "text": [
      "1\n"
     ]
    },
    {
     "data": {
      "text/plain": [
       "array([ 91.25,  54.25,  83.25, 100.  ,  70.25, 100.  ,  93.25,  31.25])"
      ]
     },
     "execution_count": 3,
     "metadata": {},
     "output_type": "execute_result"
    }
   ],
   "source": [
    "import numpy as np\n",
    "CURVE_CENTER = 80\n",
    "grades = np.array([72, 35, 64, 88, 51, 90, 74, 12])\n",
    "print(np.ndim(grades))\n",
    "def curve(grades):\n",
    "    average = grades.mean()\n",
    "    change = CURVE_CENTER - average\n",
    "    new_grades = grades + change\n",
    "    return np.clip(new_grades, grades, 100) # new, current\n",
    "\n",
    "curve(grades)"
   ]
  },
  {
   "cell_type": "markdown",
   "id": "23ac6503-2a53-4cd5-b513-9b216b5abbec",
   "metadata": {},
   "source": [
    "## Vectorization\n",
    "- The process of performing the same operation in the same way for each element in an array. This remove for loops from the code. Vectorization is a SIMD (single instruction, multiple data) operation, so one instruction carries out the same operation on a number of operands in parallel.\n",
    "- It utilizes special hardware (ALU).\n",
    "\n",
    "## Broadcasting\n",
    "- The process of extending two arrays of different shapes and figuring out how to perform a vectorized calculation between them.\n",
    "- Works if the dimensions match or if one of the dimensions is one\n"
   ]
  },
  {
   "cell_type": "markdown",
   "id": "ab582a0d-5765-42be-9f8c-18903ddaca59",
   "metadata": {},
   "source": [
    "## Shape"
   ]
  },
  {
   "cell_type": "code",
   "execution_count": 30,
   "id": "6f617acf-05d4-43e0-99a0-d38ae93be354",
   "metadata": {},
   "outputs": [
    {
     "name": "stdout",
     "output_type": "stream",
     "text": [
      "Shape:  (2, 2, 3)\n",
      "\n",
      "Temperatures:  [[[29.3 42.1 18.8]\n",
      "  [16.1 38.  12.5]]\n",
      "\n",
      " [[12.6 49.9 38.6]\n",
      "  [31.3  9.2 22.2]]]\n",
      "\n",
      "SwapAxes:  [[[29.3 16.1]\n",
      "  [42.1 38. ]\n",
      "  [18.8 12.5]]\n",
      "\n",
      " [[12.6 31.3]\n",
      "  [49.9  9.2]\n",
      "  [38.6 22.2]]]\n"
     ]
    }
   ],
   "source": [
    "import numpy as np\n",
    "\n",
    "temperatures = np.array([\n",
    "    29.3, 42.1, 18.8, 16.1, 38.0, 12.5,\n",
    "    12.6, 49.9, 38.6, 31.3, 9.2, 22.2\n",
    "]).reshape(2, 2, 3)\n",
    "\n",
    "print(\"Shape: \", temperatures.shape)\n",
    "\n",
    "print(\"\\nTemperatures: \", temperatures)\n",
    "\n",
    "print(\"\\nSwapAxes: \", np.swapaxes(temperatures, 1, 2))"
   ]
  },
  {
   "cell_type": "markdown",
   "id": "9f037ffa-afc4-449e-9e88-df039f2bbc02",
   "metadata": {},
   "source": [
    "## Understanding Axes"
   ]
  },
  {
   "cell_type": "code",
   "execution_count": 35,
   "id": "4fe4429c-ff08-424b-9df6-24592b18dd60",
   "metadata": {},
   "outputs": [
    {
     "name": "stdout",
     "output_type": "stream",
     "text": [
      "Max:  9\n",
      "Max vertical:  [5 6 7 9]\n",
      "Max horizontal:  [7 9 1 4]\n"
     ]
    }
   ],
   "source": [
    "import numpy as np\n",
    "\n",
    "table = np.array([\n",
    "    [5, 3, 7, 1],\n",
    "    [2, 6, 7 ,9],\n",
    "    [1, 1, 1, 1],\n",
    "    [4, 3, 2, 0],\n",
    "])\n",
    "\n",
    "print(\"Max: \", table.max())\n",
    "\n",
    "\n",
    "print(\"Max vertical: \", table.max(axis=0))\n",
    "\n",
    "\n",
    "print(\"Max horizontal: \", table.max(axis=1))"
   ]
  },
  {
   "cell_type": "code",
   "execution_count": 40,
   "id": "c1b8efd3-8654-4464-8478-1068974d5fba",
   "metadata": {},
   "outputs": [
    {
     "name": "stdout",
     "output_type": "stream",
     "text": [
      "A:  [[[ 0  1  2  3  4  5  6  7]]\n",
      "\n",
      " [[ 8  9 10 11 12 13 14 15]]\n",
      "\n",
      " [[16 17 18 19 20 21 22 23]]\n",
      "\n",
      " [[24 25 26 27 28 29 30 31]]]\n",
      "\n",
      "B:  [[[ 0  1  2  3  4  5  6  7]\n",
      "  [ 8  9 10 11 12 13 14 15]\n",
      "  [16 17 18 19 20 21 22 23]\n",
      "  [24 25 26 27 28 29 30 31]\n",
      "  [32 33 34 35 36 37 38 39]\n",
      "  [40 41 42 43 44 45 46 47]]]\n",
      "\n",
      "A + B:  [[[ 0  2  4  6  8 10 12 14]\n",
      "  [ 8 10 12 14 16 18 20 22]\n",
      "  [16 18 20 22 24 26 28 30]\n",
      "  [24 26 28 30 32 34 36 38]\n",
      "  [32 34 36 38 40 42 44 46]\n",
      "  [40 42 44 46 48 50 52 54]]\n",
      "\n",
      " [[ 8 10 12 14 16 18 20 22]\n",
      "  [16 18 20 22 24 26 28 30]\n",
      "  [24 26 28 30 32 34 36 38]\n",
      "  [32 34 36 38 40 42 44 46]\n",
      "  [40 42 44 46 48 50 52 54]\n",
      "  [48 50 52 54 56 58 60 62]]\n",
      "\n",
      " [[16 18 20 22 24 26 28 30]\n",
      "  [24 26 28 30 32 34 36 38]\n",
      "  [32 34 36 38 40 42 44 46]\n",
      "  [40 42 44 46 48 50 52 54]\n",
      "  [48 50 52 54 56 58 60 62]\n",
      "  [56 58 60 62 64 66 68 70]]\n",
      "\n",
      " [[24 26 28 30 32 34 36 38]\n",
      "  [32 34 36 38 40 42 44 46]\n",
      "  [40 42 44 46 48 50 52 54]\n",
      "  [48 50 52 54 56 58 60 62]\n",
      "  [56 58 60 62 64 66 68 70]\n",
      "  [64 66 68 70 72 74 76 78]]]\n"
     ]
    }
   ],
   "source": [
    "import numpy as np\n",
    "\n",
    "A = np.arange(32).reshape(4, 1, 8)\n",
    "\n",
    "print(\"A: \", A)\n",
    "\n",
    "B = np.arange(48).reshape(1, 6, 8)\n",
    "\n",
    "print(\"\\nB: \", B)\n",
    "\n",
    "print(\"\\nA + B: \", A + B)"
   ]
  },
  {
   "cell_type": "code",
   "execution_count": null,
   "id": "0813f119-9f24-4d92-abaa-5768bb09b679",
   "metadata": {},
   "outputs": [],
   "source": []
  }
 ],
 "metadata": {
  "kernelspec": {
   "display_name": "Python 3",
   "language": "python",
   "name": "python3"
  },
  "language_info": {
   "codemirror_mode": {
    "name": "ipython",
    "version": 3
   },
   "file_extension": ".py",
   "mimetype": "text/x-python",
   "name": "python",
   "nbconvert_exporter": "python",
   "pygments_lexer": "ipython3",
   "version": "3.6.6+"
  }
 },
 "nbformat": 4,
 "nbformat_minor": 5
}
