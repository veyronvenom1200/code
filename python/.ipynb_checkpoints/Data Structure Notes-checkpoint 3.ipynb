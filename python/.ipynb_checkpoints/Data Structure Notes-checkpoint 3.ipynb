{
 "cells": [
  {
   "cell_type": "markdown",
   "id": "a95b5568-d054-4e51-854b-642e68872b32",
   "metadata": {},
   "source": [
    "# Data Structure Notes\n",
    "\n",
    "## Lists and Tuples\n",
    "\n",
    "### Lists"
   ]
  }
 ],
 "metadata": {
  "kernelspec": {
   "display_name": "Python 3",
   "language": "python",
   "name": "python3"
  },
  "language_info": {
   "codemirror_mode": {
    "name": "ipython",
    "version": 3
   },
   "file_extension": ".py",
   "mimetype": "text/x-python",
   "name": "python",
   "nbconvert_exporter": "python",
   "pygments_lexer": "ipython3",
   "version": "3.6.6+"
  }
 },
 "nbformat": 4,
 "nbformat_minor": 5
}
