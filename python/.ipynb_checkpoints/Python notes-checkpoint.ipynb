{
 "cells": [
  {
   "cell_type": "markdown",
   "id": "67c516b1-d835-4516-9d46-3890cde4677c",
   "metadata": {},
   "source": [
    "# Python Notes\n",
    "## Python Descriptors\n",
    "\n",
    "Descriptors are Python objects that implement a method of the descriptor protocol, which gives you the ability to create objects that have special behavior when they’re accessed as attributes of other objects."
   ]
  },
  {
   "cell_type": "markdown",
   "id": "0443df81-a79e-4595-b957-1e79b5db7880",
   "metadata": {},
   "source": [
    "    __get__(self, obj, type=None) -> object\n",
    "    __set__(self, obj, value) -> None\n",
    "    __delete__(self, obj) -> None\n",
    "    __set_name__(self, owner, name)"
   ]
  },
  {
   "cell_type": "markdown",
   "id": "7c388a6b-fc95-4b8c-ac8a-ece512c29238",
   "metadata": {},
   "source": [
    "If your descriptor implements just .__get__(), then it’s said to be a non-data descriptor. If it implements .__set__() or .__delete__(), then it’s said to be a data descriptor. Note that this difference is not just about the name, but it’s also a difference in behavior. That’s because data descriptors have precedence during the lookup process."
   ]
  },
  {
   "cell_type": "code",
   "execution_count": null,
   "id": "8f67cc3d",
   "metadata": {},
   "outputs": [],
   "source": [
    "# descriptors.py\n",
    "class Verbose_attribute():\n",
    "    def __get__(self, obj, type=None) -> object:  #always returns 42\n",
    "        print(\"accessing the attribute to get the value\")\n",
    "        return 42\n",
    "    def __set__(self, obj, value) -> None:\n",
    "        print(\"accessing the attribute to set the value\")\n",
    "        raise AttributeError(\"Cannot change the value\")\n",
    "\n",
    "class Foo():\n",
    "    attribute1 = Verbose_attribute()\n",
    "\n",
    "my_foo_object = Foo()\n",
    "x = my_foo_object.attribute1\n",
    "print(x)"
   ]
  },
  {
   "cell_type": "markdown",
   "id": "95e521c6-6368-4846-89b5-59e16cb343cf",
   "metadata": {},
   "source": [
    "## Decorators\n",
    "In Python, functions are first-class objects. This means that functions can be passed around and used as arguments, just like any other object (string, int, float, list, and so on)."
   ]
  },
  {
   "cell_type": "code",
   "execution_count": 5,
   "id": "e609c9bc-10f8-4ec4-90a9-4b1c7a818bd5",
   "metadata": {},
   "outputs": [
    {
     "data": {
      "text/plain": [
       "'Hello Bob'"
      ]
     },
     "execution_count": 5,
     "metadata": {},
     "output_type": "execute_result"
    }
   ],
   "source": [
    "def say_hello(name):\n",
    "    return f\"Hello {name}\"\n",
    "\n",
    "def be_awesome(name):\n",
    "    return f\"Yo {name}, together we are the awesomest!\"\n",
    "\n",
    "def greet_bob(greeter_func): # expects a function passed by reference\n",
    "    return greeter_func(\"Bob\")\n",
    "\n",
    "greet_bob(say_hello) # say_hello is passed by reference, hence no ()\n"
   ]
  },
  {
   "cell_type": "markdown",
   "id": "b746138a-fd6d-42dd-88d3-1ff804320cab",
   "metadata": {},
   "source": [
    "### Simple Decorators\n",
    "\n",
    "Decorators wrap a function, modifying its behavior."
   ]
  },
  {
   "cell_type": "code",
   "execution_count": 17,
   "id": "0b5e8b4d-88ac-408e-9764-948c2599d8f1",
   "metadata": {},
   "outputs": [
    {
     "name": "stdout",
     "output_type": "stream",
     "text": [
      "Something is happening before the function is called.\n",
      "Whee!\n",
      "Something is happening after the function is called.\n",
      "None\n"
     ]
    }
   ],
   "source": [
    "def my_decorator(func):\n",
    "    def wrapper():\n",
    "        print(\"Something is happening before the function is called.\")\n",
    "        func()\n",
    "        print(\"Something is happening after the function is called.\")\n",
    "    return wrapper\n",
    "\n",
    "def say_whee():\n",
    "    print(\"Whee!\")\n",
    "\n",
    "say = my_decorator(say_whee)\n",
    "print(say())"
   ]
  },
  {
   "cell_type": "markdown",
   "id": "c01e295f-e98a-46d1-b4d9-c2df871d0504",
   "metadata": {},
   "source": [
    "Decorator using the @ symbol (pie symbol)."
   ]
  },
  {
   "cell_type": "code",
   "execution_count": 14,
   "id": "f00092ae-9458-4193-a191-289781824863",
   "metadata": {},
   "outputs": [
    {
     "name": "stdout",
     "output_type": "stream",
     "text": [
      "Something is happening before the function is called.\n",
      "Whee!\n",
      "Something is happening after the function is called.\n",
      "None\n",
      "<function my_decorator.<locals>.wrapper at 0x10b153760>\n"
     ]
    }
   ],
   "source": [
    "def my_decorator(func):\n",
    "    def wrapper():\n",
    "        print(\"Something is happening before the function is called.\")\n",
    "        func()\n",
    "        print(\"Something is happening after the function is called.\")\n",
    "    return wrapper\n",
    "\n",
    "@my_decorator\n",
    "def say_whee():\n",
    "    print(\"Whee!\")\n",
    "    \n",
    "print(say_whee())\n",
    "print(say_whee)"
   ]
  },
  {
   "cell_type": "markdown",
   "id": "433f6b34-9c73-4753-81f6-57dab8ef8910",
   "metadata": {},
   "source": [
    "If you are going to pass arguments to the wrapper function, use __*args__ and __**kwargs__.\n",
    "<br>\n",
    "Introspection is the ability of an object to know about its own attributes at runtime.\n",
    "Ex."
   ]
  },
  {
   "cell_type": "code",
   "execution_count": 16,
   "id": "13f3991b-a6e3-477d-97a5-ef9a86cd7fc8",
   "metadata": {},
   "outputs": [
    {
     "name": "stdout",
     "output_type": "stream",
     "text": [
      "<built-in function print>\n",
      "print\n",
      "<function my_decorator.<locals>.wrapper at 0x10b153760>\n"
     ]
    }
   ],
   "source": [
    "print(print)\n",
    "\n",
    "print(print.__name__)\n",
    "\n",
    "print(say_whee)"
   ]
  },
  {
   "cell_type": "code",
   "execution_count": null,
   "id": "2230fb61-c3c4-48be-b65e-0a262da2b726",
   "metadata": {},
   "outputs": [],
   "source": []
  }
 ],
 "metadata": {
  "kernelspec": {
   "display_name": "Python 3 (ipykernel)",
   "language": "python",
   "name": "python3"
  },
  "language_info": {
   "codemirror_mode": {
    "name": "ipython",
    "version": 3
   },
   "file_extension": ".py",
   "mimetype": "text/x-python",
   "name": "python",
   "nbconvert_exporter": "python",
   "pygments_lexer": "ipython3",
   "version": "3.10.8"
  }
 },
 "nbformat": 4,
 "nbformat_minor": 5
}
